{
 "cells": [
  {
   "cell_type": "code",
   "execution_count": null,
   "id": "da22aa5c",
   "metadata": {
    "vscode": {
     "languageId": "plaintext"
    }
   },
   "outputs": [],
   "source": [
    "from src import detection, keypoints_atc, overlay, rag_engine\n",
    "\n",
    "img_path = \"image.png\"\n",
    "\n",
    "# 1. Breed detection\n",
    "breed_name, confidence = detection.detect_breed(img_path)\n",
    "print(\"Breed:\", breed_name, \"| Confidence:\", confidence)\n",
    "\n",
    "# 2. Keypoint detection\n",
    "keypoints = detection.detect_keypoints(img_path)\n",
    "traits = keypoints_atc.extract_traits(keypoints)\n",
    "scores = keypoints_atc.calculate_atc_scores(traits)\n",
    "print(\"ATC Scores:\", scores)\n",
    "\n",
    "# 3. Overlay\n",
    "overlay.draw_explainable_overlay(img_path, keypoints, scores)\n",
    "\n",
    "# 4. Knowledge RAG\n",
    "rag_engine.add_docs([\n",
    "    \"Cows need 30-50 liters of water daily.\",\n",
    "    \"Jersey cows produce high butterfat milk.\"\n",
    "])\n",
    "print(rag_engine.answer_question(\"How much water does a cow need daily?\"))\n"
   ]
  }
 ],
 "metadata": {
  "language_info": {
   "name": "python"
  }
 },
 "nbformat": 4,
 "nbformat_minor": 5
}
